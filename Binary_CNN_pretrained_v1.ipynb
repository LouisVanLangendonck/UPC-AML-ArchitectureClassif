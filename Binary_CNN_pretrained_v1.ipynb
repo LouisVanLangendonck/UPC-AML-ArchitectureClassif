{
  "nbformat": 4,
  "nbformat_minor": 0,
  "metadata": {
    "colab": {
      "provenance": [],
      "machine_shape": "hm",
      "authorship_tag": "ABX9TyMje288ujdIMKz7KFG33tRP",
      "include_colab_link": true
    },
    "kernelspec": {
      "name": "python3",
      "display_name": "Python 3"
    },
    "language_info": {
      "name": "python"
    },
    "gpuClass": "standard",
    "accelerator": "GPU"
  },
  "cells": [
    {
      "cell_type": "markdown",
      "metadata": {
        "id": "view-in-github",
        "colab_type": "text"
      },
      "source": [
        "<a href=\"https://colab.research.google.com/github/LouisVanLangendonck/UPC-AML-ArchitectureClassif/blob/main/Binary_CNN_pretrained_v1.ipynb\" target=\"_parent\"><img src=\"https://colab.research.google.com/assets/colab-badge.svg\" alt=\"Open In Colab\"/></a>"
      ]
    },
    {
      "cell_type": "code",
      "source": [
        "unpack_data = True"
      ],
      "metadata": {
        "id": "uQWF-Yttw6x7"
      },
      "execution_count": null,
      "outputs": []
    },
    {
      "cell_type": "code",
      "execution_count": null,
      "metadata": {
        "colab": {
          "base_uri": "https://localhost:8080/"
        },
        "id": "IsrA5RVdwR-a",
        "outputId": "fa4832ea-1a8b-4309-984c-aac709d8ef31"
      },
      "outputs": [
        {
          "output_type": "stream",
          "name": "stdout",
          "text": [
            "TF version: 2.9.2\n",
            "Hub version: 0.12.0\n",
            "keras version: 2.9.0\n",
            "GPU is available\n"
          ]
        }
      ],
      "source": [
        "import itertools\n",
        "import os\n",
        "import matplotlib.pylab as plt\n",
        "import numpy as np\n",
        "import tensorflow as tf\n",
        "import tensorflow_hub as hub\n",
        "import keras\n",
        "import random\n",
        "print(\"TF version:\", tf.__version__)\n",
        "print(\"Hub version:\", hub.__version__)\n",
        "print(\"keras version:\", keras.__version__)\n",
        "print(\"GPU is\", \"available\" if tf.config.list_physical_devices('GPU') else \"NOT AVAILABLE\")"
      ]
    },
    {
      "cell_type": "code",
      "source": [
        "from google.colab import drive\n",
        "drive.mount('/content/drive', force_remount = True)"
      ],
      "metadata": {
        "colab": {
          "base_uri": "https://localhost:8080/"
        },
        "id": "Q83SzxP3w1Kw",
        "outputId": "6d4beb65-4123-411a-dd26-9ac7cfacd9ab"
      },
      "execution_count": null,
      "outputs": [
        {
          "output_type": "stream",
          "name": "stdout",
          "text": [
            "Mounted at /content/drive\n"
          ]
        }
      ]
    },
    {
      "cell_type": "code",
      "source": [
        "if unpack_data:\n",
        "    drive_path = 'drive/MyDrive/FIB-2022-2023/aml/data/binary_data.zip'\n",
        "    local_path = '/content'\n",
        "\n",
        "    !cp '{drive_path}' .\n",
        "\n",
        "    os.chdir(local_path)\n",
        "    !unzip -q 'binary_data.zip'"
      ],
      "metadata": {
        "id": "NLS5A-zpw3Ua",
        "colab": {
          "base_uri": "https://localhost:8080/"
        },
        "outputId": "8736b4ee-cb20-493e-ee84-bb23ae2771c1"
      },
      "execution_count": null,
      "outputs": [
        {
          "output_type": "stream",
          "name": "stdout",
          "text": [
            "replace bin_test/noucentisme/noucentisme-10-0.jpg? [y]es, [n]o, [A]ll, [N]one, [r]ename: n\n",
            "replace bin_test/noucentisme/noucentisme-1004-0.jpg? [y]es, [n]o, [A]ll, [N]one, [r]ename: n\n",
            "replace bin_test/noucentisme/noucentisme-1004-1.jpg? [y]es, [n]o, [A]ll, [N]one, [r]ename: n\n",
            "replace bin_test/noucentisme/noucentisme-1004-2.jpg? [y]es, [n]o, [A]ll, [N]one, [r]ename: n\n",
            "replace bin_test/noucentisme/noucentisme-1004-3.jpg? [y]es, [n]o, [A]ll, [N]one, [r]ename: "
          ]
        }
      ]
    },
    {
      "cell_type": "code",
      "source": [
        "train_data = '/content/bin_train'\n",
        "val_data = '/content/bin_val'\n",
        "test_data = '/content/bin_test'\n",
        "print(os.listdir(train_data))"
      ],
      "metadata": {
        "colab": {
          "base_uri": "https://localhost:8080/"
        },
        "id": "OtlYd2x1xI8r",
        "outputId": "0f8df540-f873-48a2-d7f1-64676da8788c"
      },
      "execution_count": null,
      "outputs": [
        {
          "output_type": "stream",
          "name": "stdout",
          "text": [
            "['noucentisme', 'romanesque']\n"
          ]
        }
      ]
    },
    {
      "cell_type": "markdown",
      "source": [
        "The convolutional base I will be using is EfficientNet"
      ],
      "metadata": {
        "id": "tw_LtvolKGhm"
      }
    },
    {
      "cell_type": "code",
      "source": [
        "from tensorflow.keras.applications import VGG16\n",
        "from keras import layers\n",
        "from keras import models\n",
        "\n",
        "conv_base = VGG16(\n",
        "    weights='imagenet',\n",
        "    include_top=False\n",
        ")"
      ],
      "metadata": {
        "colab": {
          "base_uri": "https://localhost:8080/"
        },
        "id": "QKifzjAHKFGn",
        "outputId": "7eac0b24-26dc-4fc3-c6c5-11fb93036d83"
      },
      "execution_count": null,
      "outputs": [
        {
          "output_type": "stream",
          "name": "stdout",
          "text": [
            "Downloading data from https://storage.googleapis.com/tensorflow/keras-applications/vgg16/vgg16_weights_tf_dim_ordering_tf_kernels_notop.h5\n",
            "58889256/58889256 [==============================] - 0s 0us/step\n"
          ]
        }
      ]
    },
    {
      "cell_type": "markdown",
      "source": [
        "Using simple pretrained feature extraction followed by a dense fully connected NN:"
      ],
      "metadata": {
        "id": "spttv97CIA8E"
      }
    },
    {
      "cell_type": "code",
      "source": [
        "from keras.preprocessing.image import ImageDataGenerator\n",
        "\n",
        "datagen = ImageDataGenerator(rescale=1./255)\n",
        "batch_size = 32\n",
        "\n",
        "train_generator = datagen.flow_from_directory(\n",
        "        train_data, \n",
        "        target_size = (224,224),\n",
        "        batch_size=batch_size, \n",
        "        class_mode = 'binary')\n",
        "\n",
        "val_generator = datagen.flow_from_directory(\n",
        "        val_data, \n",
        "        target_size = (224,224),\n",
        "        batch_size=batch_size, \n",
        "        class_mode = 'binary')\n",
        "\n",
        "test_generator = datagen.flow_from_directory(\n",
        "        test_data, \n",
        "        target_size = (224,224),\n",
        "        batch_size=batch_size, \n",
        "        class_mode = 'binary')"
      ],
      "metadata": {
        "colab": {
          "base_uri": "https://localhost:8080/"
        },
        "id": "VQKZLcceTzQ4",
        "outputId": "ff94aa92-7ade-4dd5-8443-d1f5eca02e2e"
      },
      "execution_count": null,
      "outputs": [
        {
          "output_type": "stream",
          "name": "stdout",
          "text": [
            "Found 4027 images belonging to 2 classes.\n",
            "Found 1328 images belonging to 2 classes.\n",
            "Found 1339 images belonging to 2 classes.\n"
          ]
        }
      ]
    },
    {
      "cell_type": "code",
      "source": [
        "train_images = 4027\n",
        "val_images = 1328\n",
        "test_images = 1339"
      ],
      "metadata": {
        "id": "S8eN4WlcybcO"
      },
      "execution_count": null,
      "outputs": []
    },
    {
      "cell_type": "code",
      "source": [
        "from PIL import ImageFile\n",
        "ImageFile.LOAD_TRUNCATED_IMAGES = True\n",
        "\n",
        "def extract_features(generator, sample_count):\n",
        "    features = np.zeros(shape = (sample_count,7,7,512))\n",
        "    labels = np.zeros(shape = (sample_count))\n",
        "    i = 0\n",
        "    for inputs_batch, labels_batch in generator:\n",
        "        features_batch = conv_base.predict(inputs_batch, verbose=0)\n",
        "        features[i*batch_size:(i+1)*batch_size] = features_batch\n",
        "        labels[i*batch_size : (i+1)*batch_size] = labels_batch\n",
        "        i += 1\n",
        "        if (i+1)*batch_size >= sample_count:\n",
        "            features[i*batch_size:sample_count] = features_batch[0:sample_count-i*batch_size]\n",
        "            labels[i*batch_size:sample_count] = labels_batch[0:sample_count-i*batch_size]\n",
        "            break\n",
        "    print('Features extracted!')\n",
        "    print('Shape of feature vector:{}'.format(features.shape))\n",
        "    print('Shape of labels vector:{}'.format(labels.shape))\n",
        "    return features, labels\n",
        "\n",
        "print('Train Feature Extraction:')\n",
        "train_features, train_labels = extract_features(train_generator, train_images)\n",
        "print('Validation Feature Extraction:')\n",
        "val_features, val_labels = extract_features(val_generator, val_images)\n",
        "print('Test Feature Extraction:')\n",
        "test_features, test_labels = extract_features(test_generator, test_images)"
      ],
      "metadata": {
        "colab": {
          "base_uri": "https://localhost:8080/"
        },
        "id": "Y7gGkOAyIO1Q",
        "outputId": "a04e31e9-faf4-4e98-e7ce-7ffd274d9fcc"
      },
      "execution_count": null,
      "outputs": [
        {
          "output_type": "stream",
          "name": "stdout",
          "text": [
            "Train Feature Extraction:\n",
            "Features extracted!\n",
            "Shape of feature vector:(4027, 7, 7, 512)\n",
            "Shape of labels vector:(4027,)\n",
            "Validation Feature Extraction:\n",
            "Features extracted!\n",
            "Shape of feature vector:(1328, 7, 7, 512)\n",
            "Shape of labels vector:(1328,)\n",
            "Test Feature Extraction:\n",
            "Features extracted!\n",
            "Shape of feature vector:(1339, 7, 7, 512)\n",
            "Shape of labels vector:(1339,)\n"
          ]
        }
      ]
    },
    {
      "cell_type": "code",
      "source": [
        "train_features = np.reshape(train_features, (train_images, 7*7*train_images))\n",
        "val_features = np.reshape(val_features, (val_images, 7*7*val_images))\n",
        "test_features = np.reshape(test_features, (test_images, 7*7*test_images))"
      ],
      "metadata": {
        "id": "B6bGAooDWzGt"
      },
      "execution_count": null,
      "outputs": []
    },
    {
      "cell_type": "code",
      "source": [
        "from keras import optimizers\n",
        "\n",
        "model = models.Sequential()\n",
        "model.add(layers.Dense(512, activation='relu', input_dim=7*7*train_images))\n",
        "model.add(layers.Dropout(0.5))\n",
        "model.add(layers.Dense(units = 1, activation='sigmoid'))\n",
        "model.summary()\n",
        "\n",
        "model.compile(optimizer=optimizers.Adam(learning_rate = 0.0001),\n",
        "              loss='binary_crossentropy',\n",
        "              metrics=['acc'])\n",
        "\n",
        "history = model.fit(train_features,\n",
        "                    train_labels, \n",
        "                    epochs=30, \n",
        "                    batch_size=5, \n",
        "                    validation_data = (val_features, val_labels))\n",
        "\n",
        "model.save('drive/MyDrive/FIB-2022-2023/aml/models/CNN_VGC_16_feat_extract_v1')"
      ],
      "metadata": {
        "colab": {
          "base_uri": "https://localhost:8080/"
        },
        "id": "aTtIeqzMWPRf",
        "outputId": "dae0ca4f-ca22-4e42-aeea-a6fb60d9e1e5"
      },
      "execution_count": null,
      "outputs": [
        {
          "output_type": "stream",
          "name": "stdout",
          "text": [
            "Model: \"sequential_4\"\n",
            "_________________________________________________________________\n",
            " Layer (type)                Output Shape              Param #   \n",
            "=================================================================\n",
            " dense_11 (Dense)            (None, 512)               12845568  \n",
            "                                                                 \n",
            " dropout_7 (Dropout)         (None, 512)               0         \n",
            "                                                                 \n",
            " dense_12 (Dense)            (None, 1)                 513       \n",
            "                                                                 \n",
            "=================================================================\n",
            "Total params: 12,846,081\n",
            "Trainable params: 12,846,081\n",
            "Non-trainable params: 0\n",
            "_________________________________________________________________\n",
            "Epoch 1/30\n",
            "806/806 [==============================] - 5s 6ms/step - loss: 0.3115 - acc: 0.8686 - val_loss: 0.3098 - val_acc: 0.8622\n",
            "Epoch 2/30\n",
            "806/806 [==============================] - 4s 5ms/step - loss: 0.1928 - acc: 0.9255 - val_loss: 0.2380 - val_acc: 0.8938\n",
            "Epoch 3/30\n",
            "806/806 [==============================] - 4s 5ms/step - loss: 0.1416 - acc: 0.9469 - val_loss: 0.2185 - val_acc: 0.9036\n",
            "Epoch 4/30\n",
            "806/806 [==============================] - 4s 5ms/step - loss: 0.1041 - acc: 0.9600 - val_loss: 0.2147 - val_acc: 0.9066\n",
            "Epoch 5/30\n",
            "806/806 [==============================] - 4s 5ms/step - loss: 0.0865 - acc: 0.9692 - val_loss: 0.2248 - val_acc: 0.9142\n",
            "Epoch 6/30\n",
            "806/806 [==============================] - 4s 5ms/step - loss: 0.0644 - acc: 0.9747 - val_loss: 0.2280 - val_acc: 0.9104\n",
            "Epoch 7/30\n",
            "806/806 [==============================] - 4s 5ms/step - loss: 0.0540 - acc: 0.9806 - val_loss: 0.2399 - val_acc: 0.9142\n",
            "Epoch 8/30\n",
            "806/806 [==============================] - 4s 5ms/step - loss: 0.0522 - acc: 0.9829 - val_loss: 0.2553 - val_acc: 0.9142\n",
            "Epoch 9/30\n",
            "806/806 [==============================] - 4s 5ms/step - loss: 0.0325 - acc: 0.9906 - val_loss: 0.2419 - val_acc: 0.9187\n",
            "Epoch 10/30\n",
            "806/806 [==============================] - 4s 5ms/step - loss: 0.0317 - acc: 0.9871 - val_loss: 0.3012 - val_acc: 0.9081\n",
            "Epoch 11/30\n",
            "806/806 [==============================] - 4s 5ms/step - loss: 0.0249 - acc: 0.9906 - val_loss: 0.2798 - val_acc: 0.9217\n",
            "Epoch 12/30\n",
            "806/806 [==============================] - 4s 5ms/step - loss: 0.0310 - acc: 0.9881 - val_loss: 0.2732 - val_acc: 0.9217\n",
            "Epoch 13/30\n",
            "806/806 [==============================] - 5s 6ms/step - loss: 0.0201 - acc: 0.9935 - val_loss: 0.3548 - val_acc: 0.9089\n",
            "Epoch 14/30\n",
            "806/806 [==============================] - 4s 5ms/step - loss: 0.0119 - acc: 0.9970 - val_loss: 0.4743 - val_acc: 0.8998\n",
            "Epoch 15/30\n",
            "806/806 [==============================] - 4s 5ms/step - loss: 0.0210 - acc: 0.9923 - val_loss: 0.3272 - val_acc: 0.9157\n",
            "Epoch 16/30\n",
            "806/806 [==============================] - 4s 5ms/step - loss: 0.0109 - acc: 0.9973 - val_loss: 0.3929 - val_acc: 0.9044\n",
            "Epoch 17/30\n",
            "806/806 [==============================] - 4s 5ms/step - loss: 0.0269 - acc: 0.9913 - val_loss: 0.3232 - val_acc: 0.9149\n",
            "Epoch 18/30\n",
            "806/806 [==============================] - 4s 5ms/step - loss: 0.0110 - acc: 0.9963 - val_loss: 0.3723 - val_acc: 0.9096\n",
            "Epoch 19/30\n",
            "806/806 [==============================] - 4s 5ms/step - loss: 0.0055 - acc: 0.9990 - val_loss: 0.3573 - val_acc: 0.9247\n",
            "Epoch 20/30\n",
            "806/806 [==============================] - 4s 5ms/step - loss: 0.0130 - acc: 0.9963 - val_loss: 0.3861 - val_acc: 0.9081\n",
            "Epoch 21/30\n",
            "806/806 [==============================] - 4s 5ms/step - loss: 0.0197 - acc: 0.9921 - val_loss: 0.4787 - val_acc: 0.8983\n",
            "Epoch 22/30\n",
            "806/806 [==============================] - 4s 5ms/step - loss: 0.0085 - acc: 0.9968 - val_loss: 0.4427 - val_acc: 0.9096\n",
            "Epoch 23/30\n",
            "806/806 [==============================] - 4s 5ms/step - loss: 0.0163 - acc: 0.9943 - val_loss: 0.3672 - val_acc: 0.9179\n",
            "Epoch 24/30\n",
            "806/806 [==============================] - 4s 5ms/step - loss: 0.0119 - acc: 0.9960 - val_loss: 0.4041 - val_acc: 0.9142\n",
            "Epoch 25/30\n",
            "806/806 [==============================] - 4s 5ms/step - loss: 0.0038 - acc: 0.9988 - val_loss: 0.4410 - val_acc: 0.9179\n",
            "Epoch 26/30\n",
            "806/806 [==============================] - 4s 5ms/step - loss: 0.0153 - acc: 0.9943 - val_loss: 0.4429 - val_acc: 0.9044\n",
            "Epoch 27/30\n",
            "806/806 [==============================] - 4s 5ms/step - loss: 0.0056 - acc: 0.9983 - val_loss: 0.4289 - val_acc: 0.9164\n",
            "Epoch 28/30\n",
            "806/806 [==============================] - 4s 5ms/step - loss: 0.0018 - acc: 0.9998 - val_loss: 0.4214 - val_acc: 0.9164\n",
            "Epoch 29/30\n",
            "806/806 [==============================] - 4s 5ms/step - loss: 0.0121 - acc: 0.9953 - val_loss: 0.5865 - val_acc: 0.8998\n",
            "Epoch 30/30\n",
            "806/806 [==============================] - 4s 5ms/step - loss: 0.0142 - acc: 0.9948 - val_loss: 0.4546 - val_acc: 0.9142\n"
          ]
        }
      ]
    },
    {
      "cell_type": "code",
      "source": [
        "import matplotlib.pyplot as plot\n",
        "\n",
        "acc = history.history['acc']\n",
        "val_acc = history.history['val_acc']\n",
        "loss = history.history['loss']\n",
        "val_loss = history.history['val_loss']\n",
        "\n",
        "epochs = range(1, len(acc)+1)\n",
        "\n",
        "plt.plot(epochs, acc, 'bo', label = 'Training acc')\n",
        "plt.plot(epochs, val_acc, 'bo', label = 'Validation acc')\n",
        "plt.title('Training and Validation accuracy')\n",
        "plt.legend()\n",
        "\n",
        "plt.figure()\n",
        "\n",
        "plt.plot(epochs, loss, 'bo', label='Training loss')\n",
        "plt.plot(epochs, val_loss, 'b', label='Validation loss')\n",
        "plt.title('Training and Validation loss')\n",
        "plt.legend()\n",
        "\n",
        "plt.show()"
      ],
      "metadata": {
        "colab": {
          "base_uri": "https://localhost:8080/",
          "height": 545
        },
        "id": "LhSHxOjDqGNr",
        "outputId": "61adc2d1-c95f-4611-9e18-de4419ec9e25"
      },
      "execution_count": null,
      "outputs": [
        {
          "output_type": "display_data",
          "data": {
            "text/plain": [
              "<Figure size 432x288 with 1 Axes>"
            ],
            "image/png": "[encoded data removed]"
          },
          "metadata": {
            "needs_background": "light"
          }
        },
        {
          "output_type": "display_data",
          "data": {
            "text/plain": [
              "<Figure size 432x288 with 1 Axes>"
            ],
            "image/png": "[encoded data removed]"
          },
          "metadata": {
            "needs_background": "light"
          }
        }
      ]
    },
    {
      "cell_type": "markdown",
      "source": [
        "About 90% accuracy!!"
      ],
      "metadata": {
        "id": "bD4QMYm9sb7b"
      }
    },
    {
      "cell_type": "code",
      "source": [
        "# train_datagen = ImageDataGenerator(rescale=1./255,\n",
        "#                                   rotation_range=40,\n",
        "#                                   width_shift_range=0.2,\n",
        "#                                   height_shift_range=0.2,\n",
        "#                                   shear_range = 0.2,\n",
        "#                                   zoom_range = 0.2,\n",
        "#                                   horizontal_flip=True)\n",
        "# test_datagen = ImageDataGenerator(rescale=1./255)\n",
        "\n",
        "# train_generator = train_datagen.flow_from_directory(\n",
        "#     train_data, \n",
        "#     target_size = (300, 300),\n",
        "#     batch_size = 32,\n",
        "#     class_mode='binary')\n",
        "\n",
        "# validation_generator = test_datagen.flow_from_directory(\n",
        "#     val_data, \n",
        "#     target_size = (300, 300),\n",
        "#     batch_size = 32,\n",
        "#     class_mode='binary')\n",
        "\n",
        "#Loads in image path\n",
        "\n",
        "# style = 'romanesque' #style = 'noucentisme'\n",
        "# random_train_img = os.path.join('/content/bin_train/{}'.format(style), os.listdir('/content/bin_train/{}'.format(style))[random.randint(0, 100)])\n",
        "# img = keras.utils.load_img(random_train_img, target_size= (300,300))\n",
        "# img_tensor = keras.utils.img_to_array(img)\n",
        "# img_tensor = np.expand_dims(img_tensor, axis=0)\n",
        "# #Uses ImageDataGenerator to flip the images\n",
        "# datagen = ImageDataGenerator(rotation_range=40,\n",
        "#                                   width_shift_range=0.2,\n",
        "#                                   height_shift_range=0.2,\n",
        "#                                   shear_range = 0.2,\n",
        "#                                   zoom_range = 0.2,\n",
        "#                                   horizontal_flip=True)\n",
        "# #Creates our batch of one image\n",
        "# pic = datagen.flow(img_tensor, batch_size =1)\n",
        "# plt.figure(figsize=(10,8))\n",
        "# #Plots our figures\n",
        "# for i in range(1,4):\n",
        "#   plt.subplot(1, 3, i)\n",
        "#   batch = pic.next()\n",
        "#   image_ = batch[0].astype('uint8')\n",
        "#   plt.imshow(image_)\n",
        "# plt.show()"
      ],
      "metadata": {
        "colab": {
          "base_uri": "https://localhost:8080/"
        },
        "id": "Q_cHg-5Rxn1G",
        "outputId": "964f8300-69ae-4842-e467-e38379754cd6"
      },
      "execution_count": null,
      "outputs": [
        {
          "output_type": "stream",
          "name": "stdout",
          "text": [
            "Found 4027 images belonging to 2 classes.\n",
            "Found 1328 images belonging to 2 classes.\n"
          ]
        }
      ]
    },
    {
      "cell_type": "code",
      "source": [
        "# nr_of_batches_per_epoch = int(np.ceil(4027 / 32))\n",
        "# print(nr_of_batches_per_epoch)\n",
        "# nr_of_val_batches_per_epoch = int(np.ceil(1328 / 32))\n",
        "# print(nr_of_val_batches_per_epoch)"
      ],
      "metadata": {
        "colab": {
          "base_uri": "https://localhost:8080/"
        },
        "id": "qkY4_CzSxgaP",
        "outputId": "99e78fd5-0d76-4101-e2b0-b5784b090611"
      },
      "execution_count": null,
      "outputs": [
        {
          "output_type": "stream",
          "name": "stdout",
          "text": [
            "126\n",
            "42\n"
          ]
        }
      ]
    },
    {
      "cell_type": "code",
      "source": [
        "# checkpoint_path = \"/content/binary_CNN_efficientNet_pretrained_v0/cp.ckpt\"\n",
        "# cp_callback = tf.keras.callbacks.ModelCheckpoint(\n",
        "#     filepath=checkpoint_path, \n",
        "#     verbose=1, \n",
        "#     save_weights_only=True,\n",
        "#     save_freq=126)"
      ],
      "metadata": {
        "id": "yFdEA2xu0CKu"
      },
      "execution_count": null,
      "outputs": []
    },
    {
      "cell_type": "code",
      "source": [
        "# from tensorflow.keras.applications import EfficientNetB3\n",
        "# from keras import layers\n",
        "# from keras import models\n",
        "\n",
        "# efficient_net = EfficientNetB3(\n",
        "#     weights='imagenet',\n",
        "#     include_top=True,\n",
        "#     pooling='max'\n",
        "# )\n",
        "\n",
        "# # efficient_net.trainable = False\n",
        "# # for idx, layer in enumerate(efficient_net.layers[-20:]):\n",
        "# #   if not isinstance(layer, layers.BatchNormalization):\n",
        "# #             efficient_net.layers[idx].trainable = True\n",
        "\n",
        "# model = models.Sequential()\n",
        "# model.add(efficient_net)\n",
        "# model.add(layers.Dropout(0.2))\n",
        "# model.add(layers.Dense(units = 1, activation='sigmoid'))\n",
        "# model.summary()"
      ],
      "metadata": {
        "colab": {
          "base_uri": "https://localhost:8080/"
        },
        "id": "4KELQwY50KB1",
        "outputId": "6301dd2c-1d4e-48a2-ee6c-77c25f812df8"
      },
      "execution_count": null,
      "outputs": [
        {
          "output_type": "stream",
          "name": "stdout",
          "text": [
            "Downloading data from https://storage.googleapis.com/keras-applications/efficientnetb3.h5\n",
            "50095040/50095040 [==============================] - 2s 0us/step\n",
            "Model: \"sequential_19\"\n",
            "_________________________________________________________________\n",
            " Layer (type)                Output Shape              Param #   \n",
            "=================================================================\n",
            " efficientnetb3 (Functional)  (None, 1000)             12320535  \n",
            "                                                                 \n",
            " dropout_17 (Dropout)        (None, 1000)              0         \n",
            "                                                                 \n",
            " dense_39 (Dense)            (None, 1)                 1001      \n",
            "                                                                 \n",
            "=================================================================\n",
            "Total params: 12,321,536\n",
            "Trainable params: 12,234,233\n",
            "Non-trainable params: 87,303\n",
            "_________________________________________________________________\n"
          ]
        }
      ]
    },
    {
      "cell_type": "code",
      "source": [
        "# from PIL import ImageFile\n",
        "# ImageFile.LOAD_TRUNCATED_IMAGES = True\n",
        "\n",
        "\n",
        "# history = model.fit(\n",
        "#         train_generator, \n",
        "#         steps_per_epoch=nr_of_batches_per_epoch, \n",
        "#         epochs=20,\n",
        "#         validation_data=validation_generator, \n",
        "#         validation_steps=nr_of_val_batches_per_epoch,\n",
        "#         callbacks= [cp_callback])\n",
        "\n",
        "# model.save('binary_CNN-efficientNet_pretrained_v1')"
      ],
      "metadata": {
        "colab": {
          "base_uri": "https://localhost:8080/"
        },
        "id": "nC3C-kBy4T2H",
        "outputId": "676b1df9-42eb-4122-8b92-f083b5a00c27"
      },
      "execution_count": null,
      "outputs": [
        {
          "output_type": "stream",
          "name": "stdout",
          "text": [
            "Epoch 1/20\n",
            " 38/126 [========>.....................] - ETA: 3:06 - loss: 0.6687 - accuracy: 0.7911\n",
            "Epoch 1: saving model to /content/binary_CNN_efficientNet_pretrained_v0/cp.ckpt\n",
            "126/126 [==============================] - 345s 3s/step - loss: 0.6590 - accuracy: 0.7512 - val_loss: 0.6918 - val_accuracy: 0.5331\n",
            "Epoch 2/20\n",
            " 38/126 [========>.....................] - ETA: 3:04 - loss: 0.6363 - accuracy: 0.7459\n",
            "Epoch 2: saving model to /content/binary_CNN_efficientNet_pretrained_v0/cp.ckpt\n",
            "126/126 [==============================] - 319s 3s/step - loss: 0.6288 - accuracy: 0.7450 - val_loss: 0.7084 - val_accuracy: 0.4669\n",
            "Epoch 3/20\n",
            " 38/126 [========>.....................] - ETA: 2:58 - loss: 0.6188 - accuracy: 0.7275\n",
            "Epoch 3: saving model to /content/binary_CNN_efficientNet_pretrained_v0/cp.ckpt\n",
            "126/126 [==============================] - 322s 3s/step - loss: 0.5926 - accuracy: 0.7591 - val_loss: 0.6966 - val_accuracy: 0.5331\n",
            "Epoch 4/20\n",
            " 38/126 [========>.....................] - ETA: 3:08 - loss: 0.5447 - accuracy: 0.8281\n",
            "Epoch 4: saving model to /content/binary_CNN_efficientNet_pretrained_v0/cp.ckpt\n",
            "126/126 [==============================] - 320s 3s/step - loss: 0.5483 - accuracy: 0.8031 - val_loss: 0.7353 - val_accuracy: 0.4669\n",
            "Epoch 5/20\n",
            " 38/126 [========>.....................] - ETA: 3:02 - loss: 0.5249 - accuracy: 0.7977\n",
            "Epoch 5: saving model to /content/binary_CNN_efficientNet_pretrained_v0/cp.ckpt\n",
            "126/126 [==============================] - 318s 3s/step - loss: 0.5179 - accuracy: 0.8071 - val_loss: 0.7302 - val_accuracy: 0.5331\n",
            "Epoch 6/20\n",
            " 38/126 [========>.....................] - ETA: 3:10 - loss: 0.5003 - accuracy: 0.8109\n",
            "Epoch 6: saving model to /content/binary_CNN_efficientNet_pretrained_v0/cp.ckpt\n",
            "126/126 [==============================] - 321s 3s/step - loss: 0.4999 - accuracy: 0.8043 - val_loss: 0.7495 - val_accuracy: 0.5331\n",
            "Epoch 7/20\n",
            " 38/126 [========>.....................] - ETA: 3:07 - loss: 0.4765 - accuracy: 0.8150\n",
            "Epoch 7: saving model to /content/binary_CNN_efficientNet_pretrained_v0/cp.ckpt\n",
            "126/126 [==============================] - 318s 3s/step - loss: 0.4842 - accuracy: 0.8046 - val_loss: 0.6867 - val_accuracy: 0.5331\n",
            "Epoch 8/20\n",
            " 38/126 [========>.....................] - ETA: 3:06 - loss: 0.4725 - accuracy: 0.8192\n",
            "Epoch 8: saving model to /content/binary_CNN_efficientNet_pretrained_v0/cp.ckpt\n",
            "126/126 [==============================] - 320s 3s/step - loss: 0.4728 - accuracy: 0.8043 - val_loss: 0.7417 - val_accuracy: 0.5331\n",
            "Epoch 9/20\n",
            " 38/126 [========>.....................] - ETA: 3:01 - loss: 0.4455 - accuracy: 0.8257\n",
            "Epoch 9: saving model to /content/binary_CNN_efficientNet_pretrained_v0/cp.ckpt\n",
            "126/126 [==============================] - 318s 3s/step - loss: 0.4456 - accuracy: 0.8160 - val_loss: 0.7948 - val_accuracy: 0.5331\n",
            "Epoch 10/20\n",
            " 38/126 [========>.....................] - ETA: 3:10 - loss: 0.4536 - accuracy: 0.8076\n",
            "Epoch 10: saving model to /content/binary_CNN_efficientNet_pretrained_v0/cp.ckpt\n",
            "126/126 [==============================] - ETA: 0s - loss: 0.4435 - accuracy: 0.8080"
          ]
        }
      ]
    }
  ]
}