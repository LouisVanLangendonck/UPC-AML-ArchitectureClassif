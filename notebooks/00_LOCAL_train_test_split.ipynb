{
 "cells": [
  {
   "cell_type": "code",
   "execution_count": 3,
   "metadata": {},
   "outputs": [
    {
     "name": "stderr",
     "output_type": "stream",
     "text": [
      "C:\\Users\\louis\\AppData\\Local\\Temp/ipykernel_16560/566293199.py:19: DeprecationWarning: Sampling from a set deprecated\n",
      "since Python 3.9 and will be removed in a subsequent version.\n",
      "  sample_ids = random.sample(unique, int(0.4*len(unique)))\n",
      "C:\\Users\\louis\\AppData\\Local\\Temp/ipykernel_16560/566293199.py:20: DeprecationWarning: Sampling from a set deprecated\n",
      "since Python 3.9 and will be removed in a subsequent version.\n",
      "  test_ids = random.sample(unique, int(0.2*len(unique)))\n"
     ]
    },
    {
     "name": "stdout",
     "output_type": "stream",
     "text": [
      "baroque:\n",
      "There are 118 distinct buildings in the test set\n",
      "There are 1527 images in the train set\n",
      "There are 409 images in the test set\n",
      "contemporary:\n",
      "There are 94 distinct buildings in the test set\n",
      "There are 889 images in the train set\n",
      "There are 221 images in the test set\n",
      "gothic:\n",
      "There are 76 distinct buildings in the test set\n",
      "There are 1067 images in the train set\n",
      "There are 264 images in the test set\n",
      "modernism:\n",
      "There are 252 distinct buildings in the test set\n",
      "There are 2496 images in the train set\n",
      "There are 628 images in the test set\n",
      "neoclassicism:\n",
      "There are 62 distinct buildings in the test set\n",
      "There are 737 images in the train set\n",
      "There are 175 images in the test set\n",
      "noucentisme:\n",
      "There are 283 distinct buildings in the test set\n",
      "There are 2642 images in the train set\n",
      "There are 695 images in the test set\n",
      "renaissance:\n",
      "There are 23 distinct buildings in the test set\n",
      "There are 339 images in the train set\n",
      "There are 85 images in the test set\n",
      "romanesque:\n",
      "There are 187 distinct buildings in the test set\n",
      "There are 2401 images in the train set\n",
      "There are 609 images in the test set\n"
     ]
    }
   ],
   "source": [
    "import os\n",
    "import random\n",
    "import shutil\n",
    "\n",
    "current = os.getcwd()\n",
    "local_dir = os.path.join(current, 'data') #Specify where images are stored\n",
    "styles = os.listdir(local_dir)\n",
    "os.mkdir(os.path.join(local_dir, 'train')) #Make empty direct. called train\n",
    "train = os.path.join(local_dir, 'train') \n",
    "os.mkdir(os.path.join(local_dir, 'test')) #Make empty direct. called test\n",
    "test = os.path.join(local_dir, 'test') \n",
    "\n",
    "style_list = ['baroque', 'contemporary', 'gothic', 'modernism', 'neoclassicism', 'noucentisme', 'renaissance', 'romanesque']\n",
    "\n",
    "for style in style_list:\n",
    "    os.mkdir(os.path.join(train, style)) #Make an empty folder per style in train\n",
    "    os.mkdir(os.path.join(test, style)) #Make an empty folder per style in test\n",
    "\n",
    "for style in styles:\n",
    "    if style in style_list:\n",
    "        direc = os.path.join(local_dir, style)\n",
    "        images = os.listdir(direc)\n",
    "        unique = set()\n",
    "        for image in images:\n",
    "            if '.jpg' in image:\n",
    "                unique.add(image.split('-')[1])  #Make list of unique building numbers (as there can be multiple images per building and we \n",
    "                #want these seperated between the splits)\n",
    "        test_ids = random.sample(unique, int(0.2*len(unique)))  #Take sample of 20% of UNIQUE BUILDINGS\n",
    "        print(style + ':')\n",
    "        print('There are {} distinct buildings in the test set'.format(len(test_ids)))\n",
    "        for image in images:\n",
    "            if '.jpg' in image:\n",
    "                src = os.path.join(direc, image)\n",
    "                if image.split('-')[1] in test_ids:\n",
    "                    target = os.path.join(test, style)   #copy corresponding image to test set\n",
    "                    shutil.copy(src, target)\n",
    "                else:\n",
    "                    target = os.path.join(train, style)  #Or if not to train set\n",
    "                    shutil.copy(src, target)\n",
    "        print('There are {} images in the train set'.format(len(os.listdir(os.path.join(train, style)))))\n",
    "        print('There are {} images in the test set'.format(len(os.listdir(os.path.join(test, style)))))"
   ]
  }
 ],
 "metadata": {
  "kernelspec": {
   "display_name": "Python 3.9.7 ('aml')",
   "language": "python",
   "name": "python3"
  },
  "language_info": {
   "codemirror_mode": {
    "name": "ipython",
    "version": 3
   },
   "file_extension": ".py",
   "mimetype": "text/x-python",
   "name": "python",
   "nbconvert_exporter": "python",
   "pygments_lexer": "ipython3",
   "version": "3.9.7"
  },
  "orig_nbformat": 4,
  "vscode": {
   "interpreter": {
    "hash": "e7c8e7d7f0d100c09d28d7f04e5e774ff9d2a2cdbc50493979813ecd99615844"
   }
  }
 },
 "nbformat": 4,
 "nbformat_minor": 2
}
